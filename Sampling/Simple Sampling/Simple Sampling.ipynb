{
 "cells": [
  {
   "cell_type": "markdown",
   "metadata": {},
   "source": [
    "# Sampling"
   ]
  },
  {
   "cell_type": "markdown",
   "metadata": {},
   "source": [
    "I had this problem once and decided to keep my simple approach."
   ]
  },
  {
   "cell_type": "markdown",
   "metadata": {},
   "source": [
    "__Here we want to consider the following problem:__\n",
    "\n",
    "Say we have a large amount of data with many axis, for example, if we have data about people with the axes (sex, age, height), then maybe in order to choose a \"correct\" sample of the population, we can't take a uniform sample. This problem can occur when we have cases where possibly the data isn't representative of the overall population or when we just want to ensure that our sample will include enough examples of a specific trait."
   ]
  },
  {
   "cell_type": "markdown",
   "metadata": {},
   "source": [
    "   In creating this, we want to design a class that can be used to sample multiple dimensions simply. There are more complicated approaches for sampling multivariate distributions like [Gibbs sampling](https://en.wikipedia.org/wiki/Gibbs_sampling), which is used in order to obtain a sequence of observations which are from some multivariate probability distribution. As a Markov Chain Monte Carlo algorithm, Gibbs sampling generates a Markov chain of samples. A really good article on Markov Chain Monte Carlo is [Markov Chain Monte Carlo in Python](https://towardsdatascience.com/markov-chain-monte-carlo-in-python-44f7e609be98)"
   ]
  },
  {
   "cell_type": "markdown",
   "metadata": {},
   "source": [
    "__We are going to begin with this function:__"
   ]
  },
  {
   "cell_type": "code",
   "execution_count": 2,
   "metadata": {},
   "outputs": [],
   "source": [
    "import numpy as np\n",
    "import bisect\n",
    "\n",
    "def choosing_with_respect_to_prob_dist(axis_weights,sample_size=100):\n",
    "    \"\"\"\n",
    "    Parameters\n",
    "    ----------\n",
    "    axis_weights: np.array() 1-D Array\n",
    "    \n",
    "    Returns\n",
    "    -------\n",
    "    np.array() with indices chosen according to the probability distribution defined by the axis weights\n",
    "    \n",
    "    Functional Code\n",
    "    ---------------\n",
    "        weights = abs(np.random.randn(10))\n",
    "        weights/=np.sum(weights)\n",
    "        bins = np.cumsum(weights)\n",
    "        selections = np.random.uniform(size=10)\n",
    "        \n",
    "    Test Code\n",
    "    ---------\n",
    "        a = choosing_with_respect_to_prob_dist([1,2,3],sample_size=10000)\n",
    "        print(\"Should be around .16: {}\".format(np.sum(a==0)/10000))\n",
    "        print(\"Should be around .33: {}\".format(np.sum(a==1)/10000))\n",
    "        print(\"Should be around .50: {}\".format(np.sum(a==2)/10000))\n",
    "    \"\"\"\n",
    "    weights = axis_weights/np.sum(axis_weights)\n",
    "    bins = np.cumsum(weights)\n",
    "    \n",
    "    selections = np.random.uniform(size=sample_size)\n",
    "    indices = [bisect.bisect_left(bins,s) for s in selections]\n",
    "    \n",
    "    return np.array(indices)"
   ]
  },
  {
   "cell_type": "code",
   "execution_count": 3,
   "metadata": {},
   "outputs": [
    {
     "data": {
      "text/plain": [
       "array([0, 2, 2, 2, 0, 2, 0, 2, 0, 0, 2, 0, 2, 2, 1, 2, 2, 1, 1, 1, 1, 0,\n",
       "       1, 2, 2, 2, 2, 2, 2, 2, 2, 0, 2, 0, 1, 2, 2, 2, 2, 1, 1, 1, 0, 0,\n",
       "       2, 0, 2, 1, 0, 2, 1, 2, 0, 0, 1, 0, 2, 1, 1, 2, 2, 2, 2, 2, 2, 2,\n",
       "       2, 1, 1, 2, 2, 2, 2, 1, 1, 1, 2, 2, 0, 2, 0, 2, 0, 2, 2, 1, 2, 2,\n",
       "       1, 2, 1, 1, 1, 1, 2, 2, 2, 1, 1, 1])"
      ]
     },
     "execution_count": 3,
     "metadata": {},
     "output_type": "execute_result"
    }
   ],
   "source": [
    "choosing_with_respect_to_prob_dist([1,2,3])"
   ]
  },
  {
   "cell_type": "markdown",
   "metadata": {},
   "source": [
    "What it does is that given some axis weights with length n, it will sample $0,1,\\dots,n-1$ according to the axis weights given. To check this we can look at the following test code example."
   ]
  },
  {
   "cell_type": "code",
   "execution_count": 4,
   "metadata": {},
   "outputs": [],
   "source": [
    "a = choosing_with_respect_to_prob_dist([1,2,3],sample_size=10000)"
   ]
  },
  {
   "cell_type": "markdown",
   "metadata": {},
   "source": [
    "Setting this up, we see that we should select 0 around $\\frac{1}{6}$th of the time, 1 around $\\frac{2}{6}=\\frac{1}{3}$th of the time, and 2 around $\\frac{3}{6}=\\frac{1}{2}$th of the time."
   ]
  },
  {
   "cell_type": "code",
   "execution_count": 5,
   "metadata": {},
   "outputs": [
    {
     "name": "stdout",
     "output_type": "stream",
     "text": [
      "Should be around .16: 0.1665\n",
      "Should be around .33: 0.331\n",
      "Should be around .50: 0.5025\n"
     ]
    }
   ],
   "source": [
    "print(\"Should be around .16: {}\".format(np.sum(a==0)/10000))\n",
    "print(\"Should be around .33: {}\".format(np.sum(a==1)/10000))\n",
    "print(\"Should be around .50: {}\".format(np.sum(a==2)/10000))"
   ]
  },
  {
   "cell_type": "markdown",
   "metadata": {},
   "source": [
    "With the law of large numbers, we expect as we increase sample size, we should approach the true vcalues, but we are pretty darn close!"
   ]
  },
  {
   "cell_type": "markdown",
   "metadata": {},
   "source": [
    "# Multi-axis Sampling"
   ]
  },
  {
   "cell_type": "markdown",
   "metadata": {},
   "source": [
    "Say we need to sample from many axis. We can simply sample by choosing with respect to the appropriate probability distribution over each axis individually, our samples to obtain individual elements. For example, say we have an array with the shape of (3,3,3) which means that it has 3 axis with three elements each. If we sample over the first, second, and third axis and obtain \\[0,1,2\\], \\[2,2,0\\], \\[1,1,2\\] respectively, then we sample the points: (0,2,1),(1,2,1),(2,0,2). (In a way, we are combining all of the samples to get exact elements and we can do this by assuming independence on each of the axis which fails in some cases)"
   ]
  },
  {
   "cell_type": "markdown",
   "metadata": {},
   "source": [
    "# A Class Oriented Approach"
   ]
  },
  {
   "cell_type": "markdown",
   "metadata": {},
   "source": [
    "We can write this into a class to obtain:"
   ]
  },
  {
   "cell_type": "code",
   "execution_count": 15,
   "metadata": {},
   "outputs": [],
   "source": [
    "class Sampler2D():\n",
    "    def __init__(self,axis_weights):\n",
    "        \"\"\"\n",
    "        Parameters\n",
    "        ----------\n",
    "        axis_weights: 2-D np.array() (axis_axis, probability_distribution_axis)\n",
    "        \"\"\"\n",
    "        self.axis_weights = axis_weights\n",
    "        \n",
    "    def sample(self,sample_size):\n",
    "        indices = []\n",
    "        for prob_dist in self.axis_weights:\n",
    "            indices.append(choosing_with_respect_to_prob_dist(prob_dist,sample_size=sample_size))\n",
    "        \n",
    "        return np.array(indices)"
   ]
  },
  {
   "cell_type": "code",
   "execution_count": 16,
   "metadata": {},
   "outputs": [],
   "source": [
    "axis_1_weights = [1,2,3,4]\n",
    "axis_2_weights = [1,1,1,1]\n",
    "axis_3_weights = [0,1,0,1]"
   ]
  },
  {
   "cell_type": "code",
   "execution_count": 17,
   "metadata": {},
   "outputs": [],
   "source": [
    "total_axis_weights = np.array([axis_1_weights,axis_2_weights,axis_3_weights])"
   ]
  },
  {
   "cell_type": "code",
   "execution_count": 18,
   "metadata": {},
   "outputs": [],
   "source": [
    "sampler = Sampler2D(total_axis_weights)"
   ]
  },
  {
   "cell_type": "code",
   "execution_count": 34,
   "metadata": {},
   "outputs": [],
   "source": [
    "sampled = sampler.sample(10000)"
   ]
  },
  {
   "cell_type": "markdown",
   "metadata": {},
   "source": [
    "To check if this worked we expect the probability distributions for each of the axis to align with our estimates"
   ]
  },
  {
   "cell_type": "code",
   "execution_count": 56,
   "metadata": {},
   "outputs": [
    {
     "data": {
      "text/plain": [
       "(0, 3)"
      ]
     },
     "execution_count": 56,
     "metadata": {},
     "output_type": "execute_result"
    },
    {
     "data": {
      "image/png": "[encoded data removed]",
      "text/plain": [
       "<Figure size 1080x216 with 3 Axes>"
      ]
     },
     "metadata": {
      "needs_background": "light"
     },
     "output_type": "display_data"
    }
   ],
   "source": [
    "import matplotlib.pyplot as plt\n",
    "%matplotlib inline\n",
    "\n",
    "plt.figure(figsize=(15,3))\n",
    "\n",
    "\n",
    "plt.subplot(131)\n",
    "plt.title(\"Samples from Axis 1\")\n",
    "plt.hist(sampled[0,:])\n",
    "plt.xlim(0,3)\n",
    "\n",
    "plt.subplot(132)\n",
    "plt.title(\"Samples from Axis 2\")\n",
    "plt.hist(sampled[1,:])\n",
    "plt.xlim(0,3)\n",
    "\n",
    "plt.subplot(133)\n",
    "plt.title(\"Samples from Axis 3\")\n",
    "plt.hist(sampled[2,:])\n",
    "plt.xlim(0,3)"
   ]
  },
  {
   "cell_type": "markdown",
   "metadata": {},
   "source": [
    "We see that the probability distributions match the sampling distributions: for Axis 1, we see that we are sampling with the probability distribution (1,2,3,4), for Axis 2, we see that we have a uniform distribution, then for Axis 3, all of the sampling is concentrated on 1,3 and equally distributed on both."
   ]
  }
 ],
 "metadata": {
  "kernelspec": {
   "display_name": "Python 3",
   "language": "python",
   "name": "python3"
  },
  "language_info": {
   "codemirror_mode": {
    "name": "ipython",
    "version": 3
   },
   "file_extension": ".py",
   "mimetype": "text/x-python",
   "name": "python",
   "nbconvert_exporter": "python",
   "pygments_lexer": "ipython3",
   "version": "3.7.5"
  }
 },
 "nbformat": 4,
 "nbformat_minor": 2
}
